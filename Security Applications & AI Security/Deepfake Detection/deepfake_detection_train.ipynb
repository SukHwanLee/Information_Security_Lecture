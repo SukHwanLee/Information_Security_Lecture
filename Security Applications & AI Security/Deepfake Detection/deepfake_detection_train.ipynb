{
 "cells": [
  {
   "cell_type": "code",
   "execution_count": 1,
   "metadata": {},
   "outputs": [],
   "source": [
    "import os\n",
    "import cv2\n",
    "import json\n",
    "import tensorflow as tf\n",
    "import numpy as np\n",
    "import matplotlib.pyplot as plt\n",
    "import seaborn as sn\n",
    "import pandas as pd\n",
    "\n",
    "from tensorflow.keras.preprocessing.image import ImageDataGenerator\n",
    "from tensorflow.keras.utils import img_to_array, load_img, to_categorical\n",
    "\n",
    "from sklearn.model_selection import train_test_split\n",
    "from sklearn.metrics import confusion_matrix\n",
    "\n",
    "#from tensorflow.keras.preprocessing.image import ImageDataGenerator, img_to_array, load_img\n",
    "#from tensorflow.keras.utils import to_categorical"
   ]
  },
  {
   "cell_type": "code",
   "execution_count": 2,
   "metadata": {},
   "outputs": [],
   "source": [
    "input_shape = (128, 128, 3)\n",
    "data_dir = 'dataset'\n",
    "\n",
    "real_data = [f for f in os.listdir(data_dir+'/real') if f.endswith('.png')]\n",
    "fake_data = [f for f in os.listdir(data_dir+'/fake') if f.endswith('.png')]"
   ]
  },
  {
   "cell_type": "code",
   "execution_count": 3,
   "metadata": {},
   "outputs": [
    {
     "name": "stdout",
     "output_type": "stream",
     "text": [
      "fake len= 2986 real len= 759\n"
     ]
    }
   ],
   "source": [
    "print('fake len=', len(fake_data), 'real len=', len(real_data))"
   ]
  },
  {
   "cell_type": "code",
   "execution_count": 4,
   "metadata": {},
   "outputs": [],
   "source": [
    "X = []\n",
    "Y = []\n",
    "\n",
    "for img in real_data:\n",
    "    X.append(img_to_array(load_img(data_dir+'/real/'+img)).flatten() / 255.0)\n",
    "    Y.append(1)\n",
    "for img in fake_data:\n",
    "    X.append(img_to_array(load_img(data_dir+'/fake/'+img)).flatten() / 255.0)\n",
    "    Y.append(0)"
   ]
  },
  {
   "cell_type": "code",
   "execution_count": 5,
   "metadata": {},
   "outputs": [
    {
     "name": "stdout",
     "output_type": "stream",
     "text": [
      "(3745, 49152)\n",
      "(3745,)\n",
      "[array([0.38431373, 0.25490198, 0.21176471, ..., 0.28235295, 0.14509805,\n",
      "       0.14901961], dtype=float32), array([0.1882353 , 0.1254902 , 0.11764706, ..., 0.40392157, 0.57254905,\n",
      "       0.4627451 ], dtype=float32), array([0.17254902, 0.12941177, 0.11764706, ..., 0.39607844, 0.56078434,\n",
      "       0.44313726], dtype=float32)]\n",
      "[1, 1, 1]\n"
     ]
    }
   ],
   "source": [
    "# Check\n",
    "print(np.array(X).shape)\n",
    "print(np.array(Y).shape)\n",
    "print(X[0:3])\n",
    "print(Y[0:3])"
   ]
  },
  {
   "cell_type": "code",
   "execution_count": 6,
   "metadata": {},
   "outputs": [],
   "source": [
    "Y_val_org = Y\n",
    "\n",
    "# Normalization\n",
    "X = np.array(X)\n",
    "Y = to_categorical(Y, 2)"
   ]
  },
  {
   "cell_type": "code",
   "execution_count": 7,
   "metadata": {},
   "outputs": [
    {
     "name": "stdout",
     "output_type": "stream",
     "text": [
      "[[0.38431373 0.25490198 0.21176471 ... 0.28235295 0.14509805 0.14901961]\n",
      " [0.1882353  0.1254902  0.11764706 ... 0.40392157 0.57254905 0.4627451 ]]\n",
      "[[0. 1.]\n",
      " [0. 1.]]\n",
      "(3745, 49152)\n"
     ]
    }
   ],
   "source": [
    "print(X[0:2])\n",
    "print(Y[0:2])\n",
    "print(X.shape)"
   ]
  },
  {
   "cell_type": "code",
   "execution_count": 8,
   "metadata": {},
   "outputs": [],
   "source": [
    "# Reshape\n",
    "X = X.reshape(-1, 128, 128, 3)\n",
    "\n",
    "#Train-Test split\n",
    "X_train, X_test, Y_train, Y_test = train_test_split(X, Y, test_size = 0.2, random_state=5)\n",
    "\n",
    "# X_train, X_val, Y_train, Y_val = train_test_split(X, Y, test_size = 0.2, random_state=5)"
   ]
  },
  {
   "cell_type": "code",
   "execution_count": 9,
   "metadata": {},
   "outputs": [
    {
     "name": "stdout",
     "output_type": "stream",
     "text": [
      "2996\n",
      "749\n"
     ]
    }
   ],
   "source": [
    "print(len(X_train))\n",
    "print(len(X_test))"
   ]
  },
  {
   "cell_type": "markdown",
   "metadata": {},
   "source": [
    "#### Training"
   ]
  },
  {
   "cell_type": "markdown",
   "metadata": {},
   "source": [
    "InceptionResNetV2, EfficientNetB4"
   ]
  },
  {
   "cell_type": "code",
   "execution_count": 10,
   "metadata": {},
   "outputs": [],
   "source": [
    "from tensorflow.keras.applications import EfficientNetB6\n",
    "from tensorflow.keras.layers import Conv2D, MaxPooling2D, Flatten, Dense, Dropout, InputLayer, GlobalAveragePooling2D\n",
    "from tensorflow.keras.models import Sequential, Model\n",
    "from tensorflow.keras import optimizers\n",
    "from tensorflow.keras.callbacks import ReduceLROnPlateau, EarlyStopping"
   ]
  },
  {
   "cell_type": "code",
   "execution_count": 11,
   "metadata": {
    "tags": []
   },
   "outputs": [
    {
     "name": "stdout",
     "output_type": "stream",
     "text": [
      "1 Physical GPUs, 1 Logical GPUs\n"
     ]
    }
   ],
   "source": [
    "gpus = tf.config.experimental.list_physical_devices('GPU')\n",
    "\n",
    "if gpus:\n",
    "    try:\n",
    "        # Currently, memory growth needs to be the same across GPUs\n",
    "        for gpu in gpus:\n",
    "            tf.config.experimental.set_memory_growth(gpu, True)\n",
    "        logical_gpus = tf.config.experimental.list_logical_devices('GPU')\n",
    "        print(len(gpus), \"Physical GPUs,\", len(logical_gpus), \"Logical GPUs\")\n",
    "    except RuntimeError as e:\n",
    "        # Memory growth must be set before GPUs have been initialized\n",
    "        print(e)"
   ]
  },
  {
   "cell_type": "code",
   "execution_count": 12,
   "metadata": {},
   "outputs": [
    {
     "name": "stdout",
     "output_type": "stream",
     "text": [
      "Downloading data from https://storage.googleapis.com/keras-applications/efficientnetb6_notop.h5\n",
      "165240832/165234480 [==============================] - 39s 0us/step\n",
      "165249024/165234480 [==============================] - 39s 0us/step\n"
     ]
    }
   ],
   "source": [
    "googleNet_model = EfficientNetB6(include_top=False, weights='imagenet', input_shape=input_shape)\n",
    "googleNet_model.trainable = True\n",
    "\n",
    "model = Sequential()"
   ]
  },
  {
   "cell_type": "code",
   "execution_count": 13,
   "metadata": {},
   "outputs": [
    {
     "name": "stdout",
     "output_type": "stream",
     "text": [
      "Model: \"sequential\"\n",
      "_________________________________________________________________\n",
      "Layer (type)                 Output Shape              Param #   \n",
      "=================================================================\n",
      "efficientnetb6 (Functional)  (None, 4, 4, 2304)        40960143  \n",
      "_________________________________________________________________\n",
      "global_average_pooling2d (Gl (None, 2304)              0         \n",
      "_________________________________________________________________\n",
      "dense (Dense)                (None, 2)                 4610      \n",
      "=================================================================\n",
      "Total params: 40,964,753\n",
      "Trainable params: 40,740,314\n",
      "Non-trainable params: 224,439\n",
      "_________________________________________________________________\n"
     ]
    },
    {
     "name": "stderr",
     "output_type": "stream",
     "text": [
      "C:\\Users\\sky\\.conda\\envs\\tf-gpu\\lib\\site-packages\\keras\\optimizer_v2\\optimizer_v2.py:355: UserWarning: The `lr` argument is deprecated, use `learning_rate` instead.\n",
      "  warnings.warn(\n"
     ]
    }
   ],
   "source": [
    "model.add(googleNet_model)\n",
    "model.add(GlobalAveragePooling2D())\n",
    "model.add(Dense(units=2, activation='softmax'))\n",
    "\n",
    "model.compile(loss='binary_crossentropy',\n",
    "              optimizer=optimizers.Adam(lr=1e-5, beta_1=0.9, beta_2=0.999, epsilon=None, decay=0.0, amsgrad=False),\n",
    "              metrics=['accuracy'])\n",
    "\n",
    "model.summary()"
   ]
  },
  {
   "cell_type": "code",
   "execution_count": 14,
   "metadata": {},
   "outputs": [
    {
     "name": "stdout",
     "output_type": "stream",
     "text": [
      "Epoch 1/30\n",
      "160/160 [==============================] - 69s 314ms/step - loss: 0.6765 - accuracy: 0.5785 - val_loss: 0.6828 - val_accuracy: 0.7883\n",
      "Epoch 2/30\n",
      "160/160 [==============================] - 47s 293ms/step - loss: 0.5928 - accuracy: 0.7492 - val_loss: 0.5644 - val_accuracy: 0.7883\n",
      "Epoch 3/30\n",
      "160/160 [==============================] - 46s 289ms/step - loss: 0.5064 - accuracy: 0.8255 - val_loss: 0.5175 - val_accuracy: 0.7883\n",
      "Epoch 4/30\n",
      "160/160 [==============================] - 46s 290ms/step - loss: 0.4174 - accuracy: 0.8669 - val_loss: 0.4951 - val_accuracy: 0.7867\n",
      "Epoch 5/30\n",
      "160/160 [==============================] - 47s 294ms/step - loss: 0.3219 - accuracy: 0.9069 - val_loss: 0.3621 - val_accuracy: 0.8600\n",
      "Epoch 6/30\n",
      "160/160 [==============================] - 46s 289ms/step - loss: 0.2552 - accuracy: 0.9240 - val_loss: 0.3062 - val_accuracy: 0.8950\n",
      "Epoch 7/30\n",
      "160/160 [==============================] - 46s 289ms/step - loss: 0.1974 - accuracy: 0.9399 - val_loss: 0.2616 - val_accuracy: 0.8883\n",
      "Epoch 8/30\n",
      "160/160 [==============================] - 46s 290ms/step - loss: 0.1598 - accuracy: 0.9549 - val_loss: 0.2074 - val_accuracy: 0.9233\n",
      "Epoch 9/30\n",
      "160/160 [==============================] - 47s 294ms/step - loss: 0.1310 - accuracy: 0.9591 - val_loss: 0.1908 - val_accuracy: 0.9400\n",
      "Epoch 10/30\n",
      "160/160 [==============================] - 48s 299ms/step - loss: 0.1105 - accuracy: 0.9666 - val_loss: 0.2073 - val_accuracy: 0.9217\n",
      "Epoch 11/30\n",
      "160/160 [==============================] - 48s 303ms/step - loss: 0.0900 - accuracy: 0.9704 - val_loss: 0.1845 - val_accuracy: 0.9317\n",
      "Epoch 12/30\n",
      "160/160 [==============================] - 49s 305ms/step - loss: 0.0821 - accuracy: 0.9741 - val_loss: 0.1947 - val_accuracy: 0.9267\n",
      "Epoch 13/30\n",
      "160/160 [==============================] - 49s 304ms/step - loss: 0.0672 - accuracy: 0.9800 - val_loss: 0.1621 - val_accuracy: 0.9433\n",
      "Epoch 14/30\n",
      "160/160 [==============================] - 50s 314ms/step - loss: 0.0623 - accuracy: 0.9837 - val_loss: 0.1600 - val_accuracy: 0.9400\n",
      "Epoch 15/30\n",
      "160/160 [==============================] - 52s 326ms/step - loss: 0.0645 - accuracy: 0.9775 - val_loss: 0.1743 - val_accuracy: 0.9300\n",
      "Epoch 16/30\n",
      "160/160 [==============================] - 51s 317ms/step - loss: 0.0477 - accuracy: 0.9871 - val_loss: 0.1661 - val_accuracy: 0.9467\n",
      "Epoch 17/30\n",
      "160/160 [==============================] - 48s 301ms/step - loss: 0.0494 - accuracy: 0.9871 - val_loss: 0.1613 - val_accuracy: 0.9467\n",
      "Epoch 18/30\n",
      "160/160 [==============================] - 49s 304ms/step - loss: 0.0419 - accuracy: 0.9891 - val_loss: 0.1655 - val_accuracy: 0.9450\n",
      "Epoch 19/30\n",
      "160/160 [==============================] - 50s 311ms/step - loss: 0.0467 - accuracy: 0.9850 - val_loss: 0.1774 - val_accuracy: 0.9417\n",
      "Epoch 20/30\n",
      "160/160 [==============================] - 49s 304ms/step - loss: 0.0333 - accuracy: 0.9933 - val_loss: 0.2002 - val_accuracy: 0.9300\n",
      "Epoch 21/30\n",
      "160/160 [==============================] - 49s 305ms/step - loss: 0.0338 - accuracy: 0.9912 - val_loss: 0.2013 - val_accuracy: 0.9300\n",
      "Epoch 22/30\n",
      "160/160 [==============================] - 47s 297ms/step - loss: 0.0288 - accuracy: 0.9900 - val_loss: 0.1687 - val_accuracy: 0.9417\n",
      "Epoch 23/30\n",
      "160/160 [==============================] - 47s 293ms/step - loss: 0.0263 - accuracy: 0.9921 - val_loss: 0.1693 - val_accuracy: 0.9500\n",
      "Epoch 24/30\n",
      "160/160 [==============================] - 47s 297ms/step - loss: 0.0283 - accuracy: 0.9925 - val_loss: 0.1572 - val_accuracy: 0.9450\n",
      "Epoch 25/30\n",
      "160/160 [==============================] - 47s 296ms/step - loss: 0.0247 - accuracy: 0.9929 - val_loss: 0.1939 - val_accuracy: 0.9467\n",
      "Epoch 26/30\n",
      "160/160 [==============================] - 49s 303ms/step - loss: 0.0221 - accuracy: 0.9937 - val_loss: 0.1501 - val_accuracy: 0.9517\n",
      "Epoch 27/30\n",
      "160/160 [==============================] - 47s 296ms/step - loss: 0.0230 - accuracy: 0.9942 - val_loss: 0.1974 - val_accuracy: 0.9417\n",
      "Epoch 28/30\n",
      "160/160 [==============================] - 47s 294ms/step - loss: 0.0178 - accuracy: 0.9954 - val_loss: 0.1661 - val_accuracy: 0.9417\n",
      "Epoch 29/30\n",
      "160/160 [==============================] - 47s 294ms/step - loss: 0.0195 - accuracy: 0.9946 - val_loss: 0.1760 - val_accuracy: 0.9500\n",
      "Epoch 30/30\n",
      "160/160 [==============================] - 47s 294ms/step - loss: 0.0186 - accuracy: 0.9950 - val_loss: 0.1734 - val_accuracy: 0.9517\n"
     ]
    }
   ],
   "source": [
    "# Currently not used\n",
    "early_stopping = EarlyStopping(monitor='val_loss',\n",
    "                               min_delta=0,\n",
    "                               patience=2,\n",
    "                               verbose=0, mode='auto')\n",
    "EPOCHS = 30\n",
    "BATCH_SIZE = 15\n",
    "history = model.fit(X_train, Y_train, batch_size = BATCH_SIZE, epochs = EPOCHS, validation_split = 0.2, verbose = 1)"
   ]
  },
  {
   "cell_type": "code",
   "execution_count": 15,
   "metadata": {},
   "outputs": [
    {
     "data": {
      "image/png": "[encoded data removed]",
      "text/plain": [
       "<Figure size 1440x288 with 2 Axes>"
      ]
     },
     "metadata": {
      "needs_background": "light"
     },
     "output_type": "display_data"
    }
   ],
   "source": [
    "%matplotlib inline\n",
    "\n",
    "f, (ax1, ax2) = plt.subplots(1, 2, figsize=(20, 4))\n",
    "t = f.suptitle('Pre-trained EfficientNetB6 Transfer Learn with Fine-Tuning & Image Augmentation Performance ', fontsize=12)\n",
    "f.subplots_adjust(top=0.85, wspace=0.3)\n",
    "\n",
    "epoch_list = list(range(1,EPOCHS+1))\n",
    "\n",
    "ax1.plot(epoch_list, history.history['accuracy'], label='Train Accuracy')\n",
    "ax1.plot(epoch_list, history.history['val_accuracy'], label='Validation Accuracy')\n",
    "ax1.set_xticks(np.arange(0, EPOCHS+1, 1))\n",
    "ax1.set_ylabel('Accuracy Value')\n",
    "ax1.set_xlabel('Epoch #')\n",
    "ax1.set_title('Accuracy')\n",
    "l1 = ax1.legend(loc=\"best\")\n",
    "\n",
    "ax2.plot(epoch_list, history.history['loss'], label='Train Loss')\n",
    "ax2.plot(epoch_list, history.history['val_loss'], label='Validation Loss')\n",
    "ax2.set_xticks(np.arange(0, EPOCHS+1, 1))\n",
    "ax2.set_ylabel('Loss Value')\n",
    "ax2.set_xlabel('Epoch #')\n",
    "ax2.set_title('Loss')\n",
    "l2 = ax2.legend(loc=\"best\")"
   ]
  },
  {
   "cell_type": "code",
   "execution_count": 16,
   "metadata": {},
   "outputs": [],
   "source": [
    "# Output confusion matrix\n",
    "def print_confusion_matrix(y_true, y_pred):\n",
    "    cm = confusion_matrix(y_true, y_pred)\n",
    "    print('True positive = ', cm[0][0])\n",
    "    print('False positive = ', cm[0][1])\n",
    "    print('False negative = ', cm[1][0])\n",
    "    print('True negative = ', cm[1][1])\n",
    "    print('\\n')\n",
    "    df_cm = pd.DataFrame(cm, range(2), range(2))\n",
    "    sn.set(font_scale=1.4) # for label size\n",
    "    sn.heatmap(df_cm, annot=True, annot_kws={\"size\": 16}) # font size\n",
    "    plt.ylabel('Actual label', size = 20)\n",
    "    plt.xlabel('Predicted label', size = 20)\n",
    "    plt.xticks(np.arange(2), ['Fake', 'Real'], size = 16)\n",
    "    plt.yticks(np.arange(2), ['Fake', 'Real'], size = 16)\n",
    "    plt.ylim([2, 0])\n",
    "    plt.show()"
   ]
  },
  {
   "cell_type": "code",
   "execution_count": 21,
   "metadata": {},
   "outputs": [
    {
     "name": "stdout",
     "output_type": "stream",
     "text": [
      "[[1.0000000e+00 1.1980581e-08]\n",
      " [9.9999940e-01 6.1450851e-07]\n",
      " [9.9999976e-01 2.3628535e-07]\n",
      " ...\n",
      " [9.9998939e-01 1.0614798e-05]\n",
      " [9.9997663e-01 2.3409240e-05]\n",
      " [1.1408944e-03 9.9885917e-01]]\n",
      "[0 0 0 0] [0 0 0 0]\n"
     ]
    }
   ],
   "source": [
    "pred = model.predict(X_test)\n",
    "y_pred = np.argmax(pred, axis=1)\n",
    "y_true = np.argmax(Y_test, axis=1)\n",
    "print(pred)\n",
    "print(y_pred[0:4], y_true[0:4])"
   ]
  },
  {
   "cell_type": "code",
   "execution_count": 22,
   "metadata": {},
   "outputs": [
    {
     "name": "stdout",
     "output_type": "stream",
     "text": [
      "True positive =  566\n",
      "False positive =  23\n",
      "False negative =  21\n",
      "True negative =  139\n",
      "\n",
      "\n"
     ]
    },
    {
     "data": {
      "image/png": "[encoded data removed]",
      "text/plain": [
       "<Figure size 432x288 with 2 Axes>"
      ]
     },
     "metadata": {},
     "output_type": "display_data"
    }
   ],
   "source": [
    "print_confusion_matrix(y_true, y_pred)"
   ]
  },
  {
   "cell_type": "code",
   "execution_count": 18,
   "metadata": {},
   "outputs": [
    {
     "name": "stderr",
     "output_type": "stream",
     "text": [
      "C:\\Users\\sky\\.conda\\envs\\tf-gpu\\lib\\site-packages\\keras\\utils\\generic_utils.py:494: CustomMaskWarning: Custom mask layers require a config and must override get_config. When loading, the custom mask layer must be passed to the custom_objects argument.\n",
      "  warnings.warn('Custom mask layers require a config and must override '\n"
     ]
    }
   ],
   "source": [
    "model.save('deepfake-detection-model-EfficientNetB5.h5')"
   ]
  },
  {
   "cell_type": "code",
   "execution_count": null,
   "metadata": {},
   "outputs": [],
   "source": []
  }
 ],
 "metadata": {
  "kernelspec": {
   "display_name": "Python 3 (ipykernel)",
   "language": "python",
   "name": "python3"
  },
  "language_info": {
   "codemirror_mode": {
    "name": "ipython",
    "version": 3
   },
   "file_extension": ".py",
   "mimetype": "text/x-python",
   "name": "python",
   "nbconvert_exporter": "python",
   "pygments_lexer": "ipython3",
   "version": "3.8.13"
  }
 },
 "nbformat": 4,
 "nbformat_minor": 4
}
